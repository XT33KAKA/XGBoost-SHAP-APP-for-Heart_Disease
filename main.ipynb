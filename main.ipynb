{
 "cells": [
  {
   "cell_type": "markdown",
   "metadata": {},
   "source": [
    "# 基于XGBoost模型的心脏病风险预测与解释：Streamlit应用程序开发"
   ]
  },
  {
   "cell_type": "markdown",
   "metadata": {},
   "source": [
    "##### 绪论 研究人员可以开发基于机器学习的诊断模型，并将其部署为App，审稿人只需输入病人的特征数据，App就能够返回病人患病的概率，这种应用不仅提高了研究成果的可操作性，也为医学研究中的实际诊断提供了有力支持"
   ]
  },
  {
   "cell_type": "markdown",
   "metadata": {},
   "source": [
    "### Heart-Disease-Data-Set\n",
    "processed.cleveland.csv是从UCI Heart Disease Data Set 官网下载的数据集  \n",
    "heart-disease.txt是UCI Heart Disease Data Set 官网对数据集的描述解释  \n",
    "\n",
    "数据属性说明：  \n",
    "1）age-年龄  \n",
    "2）sex-性别 （1 =男性； 0 =女性）  \n",
    "3）cp-胸痛类型（4个值，值1：典型的心绞痛，值2：非典型心绞痛，值3：非心绞痛，值4：无症状）  \n",
    "4）trestbps-患者入院时的静息血压（单位：mm Hg）  \n",
    "5）chol-血清胆固醇水平（单位：mg / dl）  \n",
    "6）fbs-空腹血糖（> 120 mg / dl ，1=真；0=假）  \n",
    "7）restecg-静息心电图结果（值0：正常，值1：有ST-T波异常（T波倒置和/或ST升高或降低> 0.05 mV），值2：根据Estes的标准显示可能或确定的左心室肥大）  \n",
    "8）thalach-达到的最大心率  \n",
    "9）exang-运动引起的心绞痛（1 =是； 0 =否）  \n",
    "10 ）oldpeak-运动相对于休息引起的ST压低  \n",
    "11）slope-最高运动ST段的斜率，（值1：上坡，值2：平坦，值3 ：下坡）  \n",
    "12）ca-萤光显色的主要血管数目（0-3）  \n",
    "13）thal-一种称为地中海贫血的血液疾病（3=正常；6=固定缺陷；7=可逆缺陷）  \n",
    "14）target- 患者是否患有心脏病。它是从0（不存在）到4的整数值。 Cleveland 数据库的实验集中在试图区分存在（值1、2、3、4）和不存在（值0）。\n",
    "  \n",
    "  \n",
    "UCI Heart Disease Dataset.csv是对官网数据集稍做处理后的数据集  \n",
    "1-12相同  \n",
    "13）thal-一种称为地中海贫血的血液疾病（0 =正常；1 =固定缺陷；2 =可逆缺陷）  \n",
    "14）target- 患者是否患有心脏病。存在（值1）和不存在（值0）。  \n",
    "\n",
    "处理内容：  \n",
    "官网原始数据集一共有303行, 14列，行索引从0-302  \n",
    "其中ca列有4个缺失值，行索引分别为166，192，287，302  \n",
    "其中thal列有2个缺失值，行索引分别为87，266  \n",
    "去除缺失值后，UCI Heart Disease Dataset数据集[297 rows x 14 columns]  \n",
    "thal指标用0，1，2进行替换  \n",
    "target指标换为存在（值1）和不存在（值0），方便做二分类。  \n"
   ]
  },
  {
   "cell_type": "code",
   "execution_count": 1,
   "metadata": {},
   "outputs": [
    {
     "data": {
      "text/html": [
       "<div>\n",
       "<style scoped>\n",
       "    .dataframe tbody tr th:only-of-type {\n",
       "        vertical-align: middle;\n",
       "    }\n",
       "\n",
       "    .dataframe tbody tr th {\n",
       "        vertical-align: top;\n",
       "    }\n",
       "\n",
       "    .dataframe thead th {\n",
       "        text-align: right;\n",
       "    }\n",
       "</style>\n",
       "<table border=\"1\" class=\"dataframe\">\n",
       "  <thead>\n",
       "    <tr style=\"text-align: right;\">\n",
       "      <th></th>\n",
       "      <th>age</th>\n",
       "      <th>sex</th>\n",
       "      <th>cp</th>\n",
       "      <th>trestbps</th>\n",
       "      <th>chol</th>\n",
       "      <th>fbs</th>\n",
       "      <th>restecg</th>\n",
       "      <th>thalach</th>\n",
       "      <th>exang</th>\n",
       "      <th>oldpeak</th>\n",
       "      <th>slope</th>\n",
       "      <th>ca</th>\n",
       "      <th>thal</th>\n",
       "      <th>target</th>\n",
       "    </tr>\n",
       "  </thead>\n",
       "  <tbody>\n",
       "    <tr>\n",
       "      <th>0</th>\n",
       "      <td>63</td>\n",
       "      <td>1</td>\n",
       "      <td>1</td>\n",
       "      <td>145</td>\n",
       "      <td>233</td>\n",
       "      <td>1</td>\n",
       "      <td>2</td>\n",
       "      <td>150</td>\n",
       "      <td>0</td>\n",
       "      <td>2.3</td>\n",
       "      <td>3</td>\n",
       "      <td>0</td>\n",
       "      <td>1</td>\n",
       "      <td>0</td>\n",
       "    </tr>\n",
       "    <tr>\n",
       "      <th>1</th>\n",
       "      <td>67</td>\n",
       "      <td>1</td>\n",
       "      <td>4</td>\n",
       "      <td>160</td>\n",
       "      <td>286</td>\n",
       "      <td>0</td>\n",
       "      <td>2</td>\n",
       "      <td>108</td>\n",
       "      <td>1</td>\n",
       "      <td>1.5</td>\n",
       "      <td>2</td>\n",
       "      <td>3</td>\n",
       "      <td>0</td>\n",
       "      <td>1</td>\n",
       "    </tr>\n",
       "    <tr>\n",
       "      <th>2</th>\n",
       "      <td>67</td>\n",
       "      <td>1</td>\n",
       "      <td>4</td>\n",
       "      <td>120</td>\n",
       "      <td>229</td>\n",
       "      <td>0</td>\n",
       "      <td>2</td>\n",
       "      <td>129</td>\n",
       "      <td>1</td>\n",
       "      <td>2.6</td>\n",
       "      <td>2</td>\n",
       "      <td>2</td>\n",
       "      <td>2</td>\n",
       "      <td>1</td>\n",
       "    </tr>\n",
       "    <tr>\n",
       "      <th>3</th>\n",
       "      <td>37</td>\n",
       "      <td>1</td>\n",
       "      <td>3</td>\n",
       "      <td>130</td>\n",
       "      <td>250</td>\n",
       "      <td>0</td>\n",
       "      <td>0</td>\n",
       "      <td>187</td>\n",
       "      <td>0</td>\n",
       "      <td>3.5</td>\n",
       "      <td>3</td>\n",
       "      <td>0</td>\n",
       "      <td>0</td>\n",
       "      <td>0</td>\n",
       "    </tr>\n",
       "    <tr>\n",
       "      <th>4</th>\n",
       "      <td>41</td>\n",
       "      <td>0</td>\n",
       "      <td>2</td>\n",
       "      <td>130</td>\n",
       "      <td>204</td>\n",
       "      <td>0</td>\n",
       "      <td>2</td>\n",
       "      <td>172</td>\n",
       "      <td>0</td>\n",
       "      <td>1.4</td>\n",
       "      <td>1</td>\n",
       "      <td>0</td>\n",
       "      <td>0</td>\n",
       "      <td>0</td>\n",
       "    </tr>\n",
       "  </tbody>\n",
       "</table>\n",
       "</div>"
      ],
      "text/plain": [
       "   age  sex  cp  trestbps  chol  fbs  restecg  thalach  exang  oldpeak  slope  \\\n",
       "0   63    1   1       145   233    1        2      150      0      2.3      3   \n",
       "1   67    1   4       160   286    0        2      108      1      1.5      2   \n",
       "2   67    1   4       120   229    0        2      129      1      2.6      2   \n",
       "3   37    1   3       130   250    0        0      187      0      3.5      3   \n",
       "4   41    0   2       130   204    0        2      172      0      1.4      1   \n",
       "\n",
       "   ca  thal  target  \n",
       "0   0     1       0  \n",
       "1   3     0       1  \n",
       "2   2     2       1  \n",
       "3   0     0       0  \n",
       "4   0     0       0  "
      ]
     },
     "execution_count": 1,
     "metadata": {},
     "output_type": "execute_result"
    }
   ],
   "source": [
    "import pandas as pd\n",
    "import numpy as np\n",
    "import matplotlib.pyplot as plt\n",
    "from sklearn.model_selection import train_test_split\n",
    "df = pd.read_csv('UCI Heart Disease Dataset.csv')# 划分特征和目标变量\n",
    "X = df.drop(['target'], axis=1)\n",
    "y = df['target']# 划分训练集和测试集\n",
    "X_train, X_test, y_train, y_test = train_test_split(X, y, test_size=0.2,                                                     \n",
    "                                                    random_state=42, stratify=df['target'])\n",
    "df.head()"
   ]
  },
  {
   "cell_type": "code",
   "execution_count": 3,
   "metadata": {},
   "outputs": [
    {
     "name": "stdout",
     "output_type": "stream",
     "text": [
      "Fitting 5 folds for each of 100 candidates, totalling 500 fits\n",
      "Best parameters found:  {'learning_rate': 0.01, 'max_depth': 4, 'n_estimators': 500}\n",
      "Best Log Loss score:  0.409382476933348\n"
     ]
    }
   ],
   "source": [
    "import xgboost as xgb\n",
    "from sklearn.model_selection import GridSearchCV\n",
    "\n",
    "# XGBoost模型参数\n",
    "params_xgb = {\n",
    "    'learning_rate': 0.02,  # 学习率，控制每一步的步长，用于防止过拟合。典型值范围：0.01 - 0.1\n",
    "    'booster': 'gbtree',    # 提升方法，这里使用梯度提升树（Gradient Boosting Tree）\n",
    "    'objective': 'binary:logistic',  # 损失函数，这里使用逻辑回归，用于二分类任务\n",
    "    'max_leaves': 127,      # 每棵树的叶子节点数量，控制模型复杂度。较大值可以提高模型复杂度但可能导致过拟合\n",
    "    'verbosity': 1,         # 控制 XGBoost 输出信息的详细程度，0表示无输出，1表示输出进度信息\n",
    "    'seed': 42,             # 随机种子，用于重现模型的结果\n",
    "    'nthread': -1,          # 并行运算的线程数量，-1表示使用所有可用的CPU核心\n",
    "    'colsample_bytree': 0.6,  # 每棵树随机选择的特征比例，用于增加模型的泛化能力\n",
    "    'subsample': 0.7,         # 每次迭代时随机选择的样本比例，用于增加模型的泛化能力\n",
    "    'eval_metric': 'logloss'  # 评价指标，这里使用对数损失（logloss）\n",
    "}\n",
    "\n",
    "# 初始化XGBoost分类模型\n",
    "model_xgb = xgb.XGBClassifier(**params_xgb)\n",
    "\n",
    "# 定义参数网格，用于网格搜索\n",
    "param_grid = {\n",
    "    'n_estimators': [100, 200, 300, 400, 500],  # 树的数量\n",
    "    'max_depth': [3, 4, 5, 6, 7],               # 树的深度\n",
    "    'learning_rate': [0.01, 0.02, 0.05, 0.1]    # 学习率\n",
    "}\n",
    "\n",
    "# 使用GridSearchCV进行网格搜索和k折交叉验证\n",
    "grid_search = GridSearchCV(\n",
    "    estimator=model_xgb,\n",
    "    param_grid=param_grid,\n",
    "    scoring='neg_log_loss',  # 评价指标为负对数损失\n",
    "    cv=5,                    # 5折交叉验证\n",
    "    n_jobs=-1,               # 并行计算\n",
    "    verbose=1                # 输出详细进度信息\n",
    ")\n",
    "\n",
    "# 训练模型\n",
    "grid_search.fit(X_train, y_train)\n",
    "\n",
    "# 输出最优参数\n",
    "print(\"Best parameters found: \", grid_search.best_params_)\n",
    "print(\"Best Log Loss score: \", -grid_search.best_score_)\n",
    "\n",
    "# 使用最优参数训练模型\n",
    "best_model = grid_search.best_estimator_\n"
   ]
  },
  {
   "cell_type": "markdown",
   "metadata": {},
   "source": [
    "## 模型评价"
   ]
  },
  {
   "cell_type": "code",
   "execution_count": 4,
   "metadata": {},
   "outputs": [
    {
     "name": "stdout",
     "output_type": "stream",
     "text": [
      "              precision    recall  f1-score   support\n",
      "\n",
      "           0       0.83      0.91      0.87        32\n",
      "           1       0.88      0.79      0.83        28\n",
      "\n",
      "    accuracy                           0.85        60\n",
      "   macro avg       0.85      0.85      0.85        60\n",
      "weighted avg       0.85      0.85      0.85        60\n",
      "\n"
     ]
    }
   ],
   "source": [
    "from sklearn.metrics import classification_report\n",
    "\n",
    "# 预测测试集\n",
    "y_pred = best_model.predict(X_test)\n",
    "# 输出模型报告， 查看评价指标\n",
    "print(classification_report(y_test, y_pred))"
   ]
  },
  {
   "cell_type": "markdown",
   "metadata": {},
   "source": [
    "### 绘制roc曲线"
   ]
  },
  {
   "cell_type": "code",
   "execution_count": 5,
   "metadata": {},
   "outputs": [
    {
     "data": {
      "image/png": "[encoded data removed]",
      "text/plain": [
       "<Figure size 640x480 with 1 Axes>"
      ]
     },
     "metadata": {},
     "output_type": "display_data"
    }
   ],
   "source": [
    "from sklearn.metrics import roc_curve, auc\n",
    "\n",
    "# 预测概率\n",
    "y_score = best_model.predict_proba(X_test)[:, 1]\n",
    "\n",
    "# 计算ROC曲线\n",
    "fpr_logistic, tpr_logistic, _ = roc_curve(y_test, y_score)\n",
    "roc_auc_logistic = auc(fpr_logistic, tpr_logistic)\n",
    "\n",
    "# 绘制ROC曲线\n",
    "plt.figure()\n",
    "plt.plot(fpr_logistic, tpr_logistic, color='darkorange', lw=2, label=f'ROC curve (area = {roc_auc_logistic:.2f})')\n",
    "plt.plot([0, 1], [0, 1], color='navy', lw=2, linestyle='--')\n",
    "plt.xlim([0.0, 1.0])\n",
    "plt.ylim([0.0, 1.05])\n",
    "plt.xlabel('False Positive Rate')\n",
    "plt.ylabel('True Positive Rate')\n",
    "plt.title('Receiver Operating Characteristic')\n",
    "plt.legend(loc=\"lower right\")\n",
    "plt.show()\n"
   ]
  },
  {
   "cell_type": "markdown",
   "metadata": {},
   "source": [
    "## 模型保存"
   ]
  },
  {
   "cell_type": "code",
   "execution_count": 7,
   "metadata": {},
   "outputs": [
    {
     "data": {
      "text/plain": [
       "['models/XGBoost.pkl']"
      ]
     },
     "execution_count": 7,
     "metadata": {},
     "output_type": "execute_result"
    }
   ],
   "source": [
    "import joblib\n",
    "# 保存模型\n",
    "joblib.dump(best_model , 'models/XGBoost.pkl')"
   ]
  }
 ],
 "metadata": {
  "kernelspec": {
   "display_name": "tensorflow",
   "language": "python",
   "name": "python3"
  },
  "language_info": {
   "codemirror_mode": {
    "name": "ipython",
    "version": 3
   },
   "file_extension": ".py",
   "mimetype": "text/x-python",
   "name": "python",
   "nbconvert_exporter": "python",
   "pygments_lexer": "ipython3",
   "version": "3.8.19"
  }
 },
 "nbformat": 4,
 "nbformat_minor": 2
}
